{
 "cells": [
  {
   "cell_type": "code",
   "execution_count": 2,
   "metadata": {},
   "outputs": [
    {
     "name": "stdout",
     "output_type": "stream",
     "text": [
      "Collecting openpyxl\n",
      "  Downloading openpyxl-3.1.5-py2.py3-none-any.whl.metadata (2.5 kB)\n",
      "Collecting et-xmlfile (from openpyxl)\n",
      "  Downloading et_xmlfile-1.1.0-py3-none-any.whl.metadata (1.8 kB)\n",
      "Downloading openpyxl-3.1.5-py2.py3-none-any.whl (250 kB)\n",
      "\u001b[2K   \u001b[90m━━━━━━━━━━━━━━━━━━━━━━━━━━━━━━━━━━━━━━━━\u001b[0m \u001b[32m250.9/250.9 kB\u001b[0m \u001b[31m2.3 MB/s\u001b[0m eta \u001b[36m0:00:00\u001b[0ma \u001b[36m0:00:01\u001b[0m\n",
      "\u001b[?25hDownloading et_xmlfile-1.1.0-py3-none-any.whl (4.7 kB)\n",
      "Installing collected packages: et-xmlfile, openpyxl\n",
      "Successfully installed et-xmlfile-1.1.0 openpyxl-3.1.5\n",
      "\n",
      "\u001b[1m[\u001b[0m\u001b[34;49mnotice\u001b[0m\u001b[1;39;49m]\u001b[0m\u001b[39;49m A new release of pip is available: \u001b[0m\u001b[31;49m24.1.1\u001b[0m\u001b[39;49m -> \u001b[0m\u001b[32;49m24.2\u001b[0m\n",
      "\u001b[1m[\u001b[0m\u001b[34;49mnotice\u001b[0m\u001b[1;39;49m]\u001b[0m\u001b[39;49m To update, run: \u001b[0m\u001b[32;49mpip3 install --upgrade pip\u001b[0m\n",
      "Note: you may need to restart the kernel to use updated packages.\n"
     ]
    }
   ],
   "source": [
    "pip install openpyxl\n"
   ]
  },
  {
   "cell_type": "code",
   "execution_count": 3,
   "metadata": {},
   "outputs": [
    {
     "name": "stdout",
     "output_type": "stream",
     "text": [
      "Stata code saved to: /Users/bishmaybarik/Library/CloudStorage/OneDrive-ShivNadarInstitutionofEminence/India_District_State_Gini/03. Code/dist_mapp.do\n"
     ]
    }
   ],
   "source": [
    "import pandas as pd\n",
    "\n",
    "# Step 1: Load the Excel file\n",
    "file_path = '/Users/bishmaybarik/Library/CloudStorage/OneDrive-ShivNadarInstitutionofEminence/India_District_State_Gini/01. Raw/district_state_name_matching.xlsx' # Replace with the actual path to your file\n",
    "data = pd.read_excel(file_path)\n",
    "\n",
    "# Step 2: Initialize an empty string to store the Stata code\n",
    "stata_code = \"\"\n",
    "\n",
    "# Step 3: Iterate over each row in the Excel file and generate Stata commands\n",
    "for _, row in data.iterrows():\n",
    "    stata_code += f'replace district_name = \"{row[\"district_name\"]}\" if state == {row[\"sno\"]} & district == {row[\"code_up\"]}\\n'\n",
    "\n",
    "# Step 4: Save the generated Stata code to a .do file\n",
    "output_file_path = '/Users/bishmaybarik/Library/CloudStorage/OneDrive-ShivNadarInstitutionofEminence/India_District_State_Gini/03. Code/dist_mapp.do'  # Replace with your desired output path\n",
    "with open(output_file_path, 'w') as f:\n",
    "    f.write(stata_code)\n",
    "\n",
    "print(f\"Stata code saved to: {output_file_path}\")\n"
   ]
  },
  {
   "cell_type": "code",
   "execution_count": 5,
   "metadata": {},
   "outputs": [
    {
     "name": "stdout",
     "output_type": "stream",
     "text": [
      "Stata code saved to: /Users/bishmaybarik/Library/CloudStorage/OneDrive-ShivNadarInstitutionofEminence/India_District_State_Gini/03. Code/state_mapp.do\n"
     ]
    }
   ],
   "source": [
    "import pandas as pd\n",
    "\n",
    "# Step 1: Load the Excel file\n",
    "file_path = '/Users/bishmaybarik/Library/CloudStorage/OneDrive-ShivNadarInstitutionofEminence/India_District_State_Gini/01. Raw/district_state_name_matching.xlsx'  # Replace with the actual path to your file\n",
    "data = pd.read_excel(file_path)\n",
    "\n",
    "# Step 2: Initialize an empty string to store the Stata code\n",
    "stata_code = \"\"\n",
    "\n",
    "# Step 3: Create a set to track already processed states\n",
    "processed_states = set()\n",
    "\n",
    "# Step 4: Iterate over each row and generate Stata commands, avoiding duplicates\n",
    "for _, row in data.iterrows():\n",
    "    if row[\"sno\"] not in processed_states:\n",
    "        stata_code += f'replace state_name = \"{row[\"state_name\"]}\" if state == {row[\"sno\"]}\\n'\n",
    "        processed_states.add(row[\"sno\"])\n",
    "\n",
    "# Step 5: Save the generated Stata code to a .do file\n",
    "output_file_path = '/Users/bishmaybarik/Library/CloudStorage/OneDrive-ShivNadarInstitutionofEminence/India_District_State_Gini/03. Code/state_mapp.do'  # Replace with your desired output path\n",
    "with open(output_file_path, 'w') as f:\n",
    "    f.write(stata_code)\n",
    "\n",
    "print(f\"Stata code saved to: {output_file_path}\")\n"
   ]
  },
  {
   "cell_type": "code",
   "execution_count": null,
   "metadata": {},
   "outputs": [],
   "source": []
  }
 ],
 "metadata": {
  "kernelspec": {
   "display_name": "Python 3",
   "language": "python",
   "name": "python3"
  },
  "language_info": {
   "codemirror_mode": {
    "name": "ipython",
    "version": 3
   },
   "file_extension": ".py",
   "mimetype": "text/x-python",
   "name": "python",
   "nbconvert_exporter": "python",
   "pygments_lexer": "ipython3",
   "version": "3.12.4"
  }
 },
 "nbformat": 4,
 "nbformat_minor": 2
}
